{
  "nbformat": 4,
  "nbformat_minor": 0,
  "metadata": {
    "colab": {
      "name": "Untitled3.ipynb",
      "provenance": [],
      "authorship_tag": "ABX9TyPEbJuEMV/0BeTNtJ9Zhb3j",
      "include_colab_link": true
    },
    "kernelspec": {
      "name": "python3",
      "display_name": "Python 3"
    }
  },
  "cells": [
    {
      "cell_type": "markdown",
      "metadata": {
        "id": "view-in-github",
        "colab_type": "text"
      },
      "source": [
        "<a href=\"https://colab.research.google.com/github/Sumofzero/Notebooks/blob/main/test.ipynb\" target=\"_parent\"><img src=\"https://colab.research.google.com/assets/colab-badge.svg\" alt=\"Open In Colab\"/></a>"
      ]
    },
    {
      "cell_type": "code",
      "metadata": {
        "id": "s48IRKciyyA2"
      },
      "source": [
        "import pandas as pd\r\n",
        "import numpy as np"
      ],
      "execution_count": 1,
      "outputs": []
    },
    {
      "cell_type": "code",
      "metadata": {
        "colab": {
          "base_uri": "https://localhost:8080/",
          "height": 402
        },
        "id": "OAMCOx23y_Iu",
        "outputId": "d97076a9-67dc-4006-c01c-559fa686cdb2"
      },
      "source": [
        "activations = pd.read_csv('activations.tsv', sep='\\t', parse_dates=['activation_date'])\r\n",
        "activations"
      ],
      "execution_count": 2,
      "outputs": [
        {
          "output_type": "execute_result",
          "data": {
            "text/html": [
              "<div>\n",
              "<style scoped>\n",
              "    .dataframe tbody tr th:only-of-type {\n",
              "        vertical-align: middle;\n",
              "    }\n",
              "\n",
              "    .dataframe tbody tr th {\n",
              "        vertical-align: top;\n",
              "    }\n",
              "\n",
              "    .dataframe thead th {\n",
              "        text-align: right;\n",
              "    }\n",
              "</style>\n",
              "<table border=\"1\" class=\"dataframe\">\n",
              "  <thead>\n",
              "    <tr style=\"text-align: right;\">\n",
              "      <th></th>\n",
              "      <th>activation_date</th>\n",
              "      <th>activation_type</th>\n",
              "      <th>app_version</th>\n",
              "      <th>device_id</th>\n",
              "      <th>distr_channel</th>\n",
              "      <th>manufacturer_code</th>\n",
              "      <th>model_code</th>\n",
              "    </tr>\n",
              "  </thead>\n",
              "  <tbody>\n",
              "    <tr>\n",
              "      <th>0</th>\n",
              "      <td>2019-08-24</td>\n",
              "      <td>activation</td>\n",
              "      <td>3.6.0</td>\n",
              "      <td>696332390497458505</td>\n",
              "      <td>campaign_1</td>\n",
              "      <td>15376561573962667727</td>\n",
              "      <td>7913129442748736194</td>\n",
              "    </tr>\n",
              "    <tr>\n",
              "      <th>1</th>\n",
              "      <td>2019-08-25</td>\n",
              "      <td>activation</td>\n",
              "      <td>3.6.0</td>\n",
              "      <td>3893213900620425204</td>\n",
              "      <td>campaign_1</td>\n",
              "      <td>15376561573962667727</td>\n",
              "      <td>17990533160808913744</td>\n",
              "    </tr>\n",
              "    <tr>\n",
              "      <th>2</th>\n",
              "      <td>2019-09-04</td>\n",
              "      <td>activation</td>\n",
              "      <td>4.1.0</td>\n",
              "      <td>4926404455081332295</td>\n",
              "      <td>campaign_3</td>\n",
              "      <td>9176196626556171601</td>\n",
              "      <td>2071872023119905196</td>\n",
              "    </tr>\n",
              "    <tr>\n",
              "      <th>3</th>\n",
              "      <td>2019-09-02</td>\n",
              "      <td>activation</td>\n",
              "      <td>3.6.0</td>\n",
              "      <td>5643480570740241301</td>\n",
              "      <td>campaign_1</td>\n",
              "      <td>15376561573962667727</td>\n",
              "      <td>7913129442748736194</td>\n",
              "    </tr>\n",
              "    <tr>\n",
              "      <th>4</th>\n",
              "      <td>2019-09-07</td>\n",
              "      <td>activation</td>\n",
              "      <td>3.6.0</td>\n",
              "      <td>6298637473167669905</td>\n",
              "      <td>campaign_1</td>\n",
              "      <td>15376561573962667727</td>\n",
              "      <td>7913129442748736194</td>\n",
              "    </tr>\n",
              "    <tr>\n",
              "      <th>...</th>\n",
              "      <td>...</td>\n",
              "      <td>...</td>\n",
              "      <td>...</td>\n",
              "      <td>...</td>\n",
              "      <td>...</td>\n",
              "      <td>...</td>\n",
              "      <td>...</td>\n",
              "    </tr>\n",
              "    <tr>\n",
              "      <th>159339</th>\n",
              "      <td>2019-08-14</td>\n",
              "      <td>activation</td>\n",
              "      <td>2.4.0</td>\n",
              "      <td>12480184089675456847</td>\n",
              "      <td>campaign_3</td>\n",
              "      <td>9176196626556171601</td>\n",
              "      <td>14031632246904896737</td>\n",
              "    </tr>\n",
              "    <tr>\n",
              "      <th>159340</th>\n",
              "      <td>2019-08-16</td>\n",
              "      <td>activation</td>\n",
              "      <td>2.4.0</td>\n",
              "      <td>12739027111414405055</td>\n",
              "      <td>campaign_3</td>\n",
              "      <td>9176196626556171601</td>\n",
              "      <td>4097213131202638355</td>\n",
              "    </tr>\n",
              "    <tr>\n",
              "      <th>159341</th>\n",
              "      <td>2019-08-15</td>\n",
              "      <td>activation</td>\n",
              "      <td>2.4.0</td>\n",
              "      <td>13248933642579598112</td>\n",
              "      <td>campaign_2</td>\n",
              "      <td>9176196626556171601</td>\n",
              "      <td>14031632246904896737</td>\n",
              "    </tr>\n",
              "    <tr>\n",
              "      <th>159342</th>\n",
              "      <td>2019-08-25</td>\n",
              "      <td>activation</td>\n",
              "      <td>4.1.1</td>\n",
              "      <td>14077188454212927312</td>\n",
              "      <td>campaign_2</td>\n",
              "      <td>9176196626556171601</td>\n",
              "      <td>15547440847277927015</td>\n",
              "    </tr>\n",
              "    <tr>\n",
              "      <th>159343</th>\n",
              "      <td>2019-08-22</td>\n",
              "      <td>activation</td>\n",
              "      <td>3.6.0</td>\n",
              "      <td>6376144362120191402</td>\n",
              "      <td>campaign_1</td>\n",
              "      <td>15376561573962667727</td>\n",
              "      <td>7913129442748736194</td>\n",
              "    </tr>\n",
              "  </tbody>\n",
              "</table>\n",
              "<p>159344 rows × 7 columns</p>\n",
              "</div>"
            ],
            "text/plain": [
              "       activation_date  ...            model_code\n",
              "0           2019-08-24  ...   7913129442748736194\n",
              "1           2019-08-25  ...  17990533160808913744\n",
              "2           2019-09-04  ...   2071872023119905196\n",
              "3           2019-09-02  ...   7913129442748736194\n",
              "4           2019-09-07  ...   7913129442748736194\n",
              "...                ...  ...                   ...\n",
              "159339      2019-08-14  ...  14031632246904896737\n",
              "159340      2019-08-16  ...   4097213131202638355\n",
              "159341      2019-08-15  ...  14031632246904896737\n",
              "159342      2019-08-25  ...  15547440847277927015\n",
              "159343      2019-08-22  ...   7913129442748736194\n",
              "\n",
              "[159344 rows x 7 columns]"
            ]
          },
          "metadata": {
            "tags": []
          },
          "execution_count": 2
        }
      ]
    },
    {
      "cell_type": "code",
      "metadata": {
        "colab": {
          "base_uri": "https://localhost:8080/"
        },
        "id": "7xQzbx-C1qkc",
        "outputId": "18a96b0c-6746-4732-bb98-beffd4ac5498"
      },
      "source": [
        "activations.info()"
      ],
      "execution_count": 3,
      "outputs": [
        {
          "output_type": "stream",
          "text": [
            "<class 'pandas.core.frame.DataFrame'>\n",
            "RangeIndex: 159344 entries, 0 to 159343\n",
            "Data columns (total 7 columns):\n",
            " #   Column             Non-Null Count   Dtype         \n",
            "---  ------             --------------   -----         \n",
            " 0   activation_date    159344 non-null  datetime64[ns]\n",
            " 1   activation_type    159344 non-null  object        \n",
            " 2   app_version        159344 non-null  object        \n",
            " 3   device_id          159344 non-null  uint64        \n",
            " 4   distr_channel      159344 non-null  object        \n",
            " 5   manufacturer_code  159344 non-null  uint64        \n",
            " 6   model_code         159344 non-null  uint64        \n",
            "dtypes: datetime64[ns](1), object(3), uint64(3)\n",
            "memory usage: 8.5+ MB\n"
          ],
          "name": "stdout"
        }
      ]
    },
    {
      "cell_type": "code",
      "metadata": {
        "colab": {
          "base_uri": "https://localhost:8080/",
          "height": 538
        },
        "id": "3LM8kzVTy_jv",
        "outputId": "3fb6e863-81ce-40e7-e9c4-bfe116960d7b"
      },
      "source": [
        "activations['activation_date'].hist(bins=40, xrot=45, figsize=(10,8))"
      ],
      "execution_count": 4,
      "outputs": [
        {
          "output_type": "execute_result",
          "data": {
            "text/plain": [
              "<matplotlib.axes._subplots.AxesSubplot at 0x7f46124e24a8>"
            ]
          },
          "metadata": {
            "tags": []
          },
          "execution_count": 4
        },
        {
          "output_type": "display_data",
          "data": {
            "image/png": "[encoded data removed]",
            "text/plain": [
              "<Figure size 720x576 with 1 Axes>"
            ]
          },
          "metadata": {
            "tags": [],
            "needs_background": "light"
          }
        }
      ]
    },
    {
      "cell_type": "code",
      "metadata": {
        "colab": {
          "base_uri": "https://localhost:8080/",
          "height": 402
        },
        "id": "e0y3WAY7y_mC",
        "outputId": "9460bb08-eddc-4685-905e-c41ad0309235"
      },
      "source": [
        "zen = pd.read_csv('/content/zen_log_events.tsv', sep='\\t', parse_dates=['eventdate'])\r\n",
        "zen"
      ],
      "execution_count": 7,
      "outputs": [
        {
          "output_type": "execute_result",
          "data": {
            "text/html": [
              "<div>\n",
              "<style scoped>\n",
              "    .dataframe tbody tr th:only-of-type {\n",
              "        vertical-align: middle;\n",
              "    }\n",
              "\n",
              "    .dataframe tbody tr th {\n",
              "        vertical-align: top;\n",
              "    }\n",
              "\n",
              "    .dataframe thead th {\n",
              "        text-align: right;\n",
              "    }\n",
              "</style>\n",
              "<table border=\"1\" class=\"dataframe\">\n",
              "  <thead>\n",
              "    <tr style=\"text-align: right;\">\n",
              "      <th></th>\n",
              "      <th>app</th>\n",
              "      <th>block</th>\n",
              "      <th>click</th>\n",
              "      <th>device_id</th>\n",
              "      <th>dislike</th>\n",
              "      <th>eventdate</th>\n",
              "      <th>like</th>\n",
              "      <th>notification_click</th>\n",
              "      <th>preview_click</th>\n",
              "      <th>preview_show</th>\n",
              "      <th>short</th>\n",
              "      <th>show</th>\n",
              "      <th>subscription</th>\n",
              "    </tr>\n",
              "  </thead>\n",
              "  <tbody>\n",
              "    <tr>\n",
              "      <th>0</th>\n",
              "      <td>Yandex Browser Mobile</td>\n",
              "      <td>0</td>\n",
              "      <td>0</td>\n",
              "      <td>12186593417815901104</td>\n",
              "      <td>0</td>\n",
              "      <td>2019-08-24</td>\n",
              "      <td>0</td>\n",
              "      <td>0</td>\n",
              "      <td>0</td>\n",
              "      <td>0</td>\n",
              "      <td>3</td>\n",
              "      <td>0</td>\n",
              "      <td>0</td>\n",
              "    </tr>\n",
              "    <tr>\n",
              "      <th>1</th>\n",
              "      <td>Yandex Browser Mobile</td>\n",
              "      <td>0</td>\n",
              "      <td>0</td>\n",
              "      <td>4085397072091507960</td>\n",
              "      <td>0</td>\n",
              "      <td>2019-08-23</td>\n",
              "      <td>0</td>\n",
              "      <td>0</td>\n",
              "      <td>0</td>\n",
              "      <td>0</td>\n",
              "      <td>1</td>\n",
              "      <td>0</td>\n",
              "      <td>0</td>\n",
              "    </tr>\n",
              "    <tr>\n",
              "      <th>2</th>\n",
              "      <td>Yandex Browser Mobile</td>\n",
              "      <td>0</td>\n",
              "      <td>1</td>\n",
              "      <td>3338224551360680147</td>\n",
              "      <td>0</td>\n",
              "      <td>2019-07-20</td>\n",
              "      <td>0</td>\n",
              "      <td>0</td>\n",
              "      <td>0</td>\n",
              "      <td>0</td>\n",
              "      <td>0</td>\n",
              "      <td>0</td>\n",
              "      <td>0</td>\n",
              "    </tr>\n",
              "    <tr>\n",
              "      <th>3</th>\n",
              "      <td>Yandex Browser Mobile</td>\n",
              "      <td>0</td>\n",
              "      <td>0</td>\n",
              "      <td>4521556704468469702</td>\n",
              "      <td>0</td>\n",
              "      <td>2019-09-14</td>\n",
              "      <td>0</td>\n",
              "      <td>0</td>\n",
              "      <td>0</td>\n",
              "      <td>0</td>\n",
              "      <td>1</td>\n",
              "      <td>0</td>\n",
              "      <td>0</td>\n",
              "    </tr>\n",
              "    <tr>\n",
              "      <th>4</th>\n",
              "      <td>Yandex Browser Mobile</td>\n",
              "      <td>0</td>\n",
              "      <td>4</td>\n",
              "      <td>17683256281706953618</td>\n",
              "      <td>0</td>\n",
              "      <td>2019-09-02</td>\n",
              "      <td>0</td>\n",
              "      <td>0</td>\n",
              "      <td>0</td>\n",
              "      <td>2</td>\n",
              "      <td>16</td>\n",
              "      <td>6</td>\n",
              "      <td>0</td>\n",
              "    </tr>\n",
              "    <tr>\n",
              "      <th>...</th>\n",
              "      <td>...</td>\n",
              "      <td>...</td>\n",
              "      <td>...</td>\n",
              "      <td>...</td>\n",
              "      <td>...</td>\n",
              "      <td>...</td>\n",
              "      <td>...</td>\n",
              "      <td>...</td>\n",
              "      <td>...</td>\n",
              "      <td>...</td>\n",
              "      <td>...</td>\n",
              "      <td>...</td>\n",
              "      <td>...</td>\n",
              "    </tr>\n",
              "    <tr>\n",
              "      <th>1619481</th>\n",
              "      <td>Zen App</td>\n",
              "      <td>0</td>\n",
              "      <td>45</td>\n",
              "      <td>7707304842858297037</td>\n",
              "      <td>0</td>\n",
              "      <td>2019-09-21</td>\n",
              "      <td>0</td>\n",
              "      <td>0</td>\n",
              "      <td>1</td>\n",
              "      <td>0</td>\n",
              "      <td>0</td>\n",
              "      <td>139</td>\n",
              "      <td>0</td>\n",
              "    </tr>\n",
              "    <tr>\n",
              "      <th>1619482</th>\n",
              "      <td>Zen App</td>\n",
              "      <td>0</td>\n",
              "      <td>0</td>\n",
              "      <td>4542125588232286605</td>\n",
              "      <td>0</td>\n",
              "      <td>2019-09-13</td>\n",
              "      <td>0</td>\n",
              "      <td>0</td>\n",
              "      <td>0</td>\n",
              "      <td>0</td>\n",
              "      <td>0</td>\n",
              "      <td>1</td>\n",
              "      <td>0</td>\n",
              "    </tr>\n",
              "    <tr>\n",
              "      <th>1619483</th>\n",
              "      <td>Zen App</td>\n",
              "      <td>0</td>\n",
              "      <td>0</td>\n",
              "      <td>14126135707846987274</td>\n",
              "      <td>0</td>\n",
              "      <td>2019-09-24</td>\n",
              "      <td>0</td>\n",
              "      <td>0</td>\n",
              "      <td>0</td>\n",
              "      <td>0</td>\n",
              "      <td>0</td>\n",
              "      <td>47</td>\n",
              "      <td>0</td>\n",
              "    </tr>\n",
              "    <tr>\n",
              "      <th>1619484</th>\n",
              "      <td>Zen App</td>\n",
              "      <td>0</td>\n",
              "      <td>0</td>\n",
              "      <td>13554523288275113667</td>\n",
              "      <td>0</td>\n",
              "      <td>2019-08-10</td>\n",
              "      <td>0</td>\n",
              "      <td>0</td>\n",
              "      <td>0</td>\n",
              "      <td>0</td>\n",
              "      <td>0</td>\n",
              "      <td>35</td>\n",
              "      <td>0</td>\n",
              "    </tr>\n",
              "    <tr>\n",
              "      <th>1619485</th>\n",
              "      <td>Zen App</td>\n",
              "      <td>0</td>\n",
              "      <td>0</td>\n",
              "      <td>5308207289790496501</td>\n",
              "      <td>0</td>\n",
              "      <td>2019-08-18</td>\n",
              "      <td>0</td>\n",
              "      <td>0</td>\n",
              "      <td>0</td>\n",
              "      <td>0</td>\n",
              "      <td>0</td>\n",
              "      <td>1</td>\n",
              "      <td>0</td>\n",
              "    </tr>\n",
              "  </tbody>\n",
              "</table>\n",
              "<p>1619486 rows × 13 columns</p>\n",
              "</div>"
            ],
            "text/plain": [
              "                           app  block  click  ...  short  show subscription\n",
              "0        Yandex Browser Mobile      0      0  ...      3     0            0\n",
              "1        Yandex Browser Mobile      0      0  ...      1     0            0\n",
              "2        Yandex Browser Mobile      0      1  ...      0     0            0\n",
              "3        Yandex Browser Mobile      0      0  ...      1     0            0\n",
              "4        Yandex Browser Mobile      0      4  ...     16     6            0\n",
              "...                        ...    ...    ...  ...    ...   ...          ...\n",
              "1619481                Zen App      0     45  ...      0   139            0\n",
              "1619482                Zen App      0      0  ...      0     1            0\n",
              "1619483                Zen App      0      0  ...      0    47            0\n",
              "1619484                Zen App      0      0  ...      0    35            0\n",
              "1619485                Zen App      0      0  ...      0     1            0\n",
              "\n",
              "[1619486 rows x 13 columns]"
            ]
          },
          "metadata": {
            "tags": []
          },
          "execution_count": 7
        }
      ]
    },
    {
      "cell_type": "code",
      "metadata": {
        "colab": {
          "base_uri": "https://localhost:8080/",
          "height": 498
        },
        "id": "SWZfH--93kch",
        "outputId": "8aa7b60a-c393-4018-9978-ab0f0771f8ec"
      },
      "source": [
        "zen.plot(x='eventdate', y='show', figsize=(10,8))"
      ],
      "execution_count": 9,
      "outputs": [
        {
          "output_type": "execute_result",
          "data": {
            "text/plain": [
              "<matplotlib.axes._subplots.AxesSubplot at 0x7f45fa240908>"
            ]
          },
          "metadata": {
            "tags": []
          },
          "execution_count": 9
        },
        {
          "output_type": "display_data",
          "data": {
            "image/png": "[encoded data removed]",
            "text/plain": [
              "<Figure size 720x576 with 1 Axes>"
            ]
          },
          "metadata": {
            "tags": [],
            "needs_background": "light"
          }
        }
      ]
    },
    {
      "cell_type": "code",
      "metadata": {
        "colab": {
          "base_uri": "https://localhost:8080/",
          "height": 546
        },
        "id": "6kAh2Gps3kfF",
        "outputId": "b5a791ee-8cc6-4d9e-8dd1-11e922427ada"
      },
      "source": [
        "zen.hist(column='device_id', figsize=(10,8), bins=100)"
      ],
      "execution_count": 13,
      "outputs": [
        {
          "output_type": "execute_result",
          "data": {
            "text/plain": [
              "array([[<matplotlib.axes._subplots.AxesSubplot object at 0x7f45f618ac18>]],\n",
              "      dtype=object)"
            ]
          },
          "metadata": {
            "tags": []
          },
          "execution_count": 13
        },
        {
          "output_type": "display_data",
          "data": {
            "image/png": "[encoded data removed]",
            "text/plain": [
              "<Figure size 720x576 with 1 Axes>"
            ]
          },
          "metadata": {
            "tags": [],
            "needs_background": "light"
          }
        }
      ]
    },
    {
      "cell_type": "code",
      "metadata": {
        "id": "8EkwloAt3khu"
      },
      "source": [
        ""
      ],
      "execution_count": null,
      "outputs": []
    },
    {
      "cell_type": "code",
      "metadata": {
        "id": "ziVGIrHb3kkM"
      },
      "source": [
        ""
      ],
      "execution_count": null,
      "outputs": []
    },
    {
      "cell_type": "code",
      "metadata": {
        "id": "V3Z6x_r13knw"
      },
      "source": [
        ""
      ],
      "execution_count": null,
      "outputs": []
    },
    {
      "cell_type": "code",
      "metadata": {
        "id": "W1A30VRty_oh"
      },
      "source": [
        ""
      ],
      "execution_count": null,
      "outputs": []
    },
    {
      "cell_type": "code",
      "metadata": {
        "id": "SnY8mIv7y_r9"
      },
      "source": [
        ""
      ],
      "execution_count": null,
      "outputs": []
    }
  ]
}